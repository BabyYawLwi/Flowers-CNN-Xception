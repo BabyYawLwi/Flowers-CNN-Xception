{
 "cells": [
  {
   "cell_type": "code",
   "execution_count": 1,
   "metadata": {
    "_cell_guid": "79c7e3d0-c299-4dcb-8224-4455121ee9b0",
    "_uuid": "d629ff2d2480ee46fbb7e2d37f6b5fab8052498a"
   },
   "outputs": [],
   "source": [
    "import tensorflow as tf\n",
    "from tensorflow.keras.models import Sequential,Model\n",
    "from tensorflow.keras.layers import Dense,Flatten,Dropout,Conv2D, MaxPooling2D, GlobalAveragePooling2D\n",
    "from tensorflow.keras.applications import ResNet50, resnet50, Xception, xception\n",
    "from tensorflow.keras.applications.xception import preprocess_input\n",
    "from tensorflow.keras.preprocessing.image import ImageDataGenerator\n",
    "from tensorflow.keras.callbacks import EarlyStopping, ModelCheckpoint\n",
    "from tensorflow.keras.losses import CategoricalCrossentropy\n",
    "from tensorflow.keras.optimizers import Adam\n",
    "from tensorflow.keras.metrics import Accuracy\n",
    "from tensorflow.keras.activations import softmax\n",
    "from sklearn.model_selection import train_test_split\n",
    "\n",
    "import cv2\n",
    "import numpy as np \n",
    "import pandas as pd\n",
    "import matplotlib.pyplot as plt\n",
    "import seaborn as sns"
   ]
  },
  {
   "cell_type": "code",
   "execution_count": 2,
   "metadata": {},
   "outputs": [],
   "source": [
    "pd.options.display.max_columns = None\n",
    "pd.options.display.max_rows = None"
   ]
  },
  {
   "cell_type": "code",
   "execution_count": 3,
   "metadata": {},
   "outputs": [],
   "source": [
    "NUM_CLASSES = 5\n",
    "CHANNELS = 3\n",
    "IMAGE_RESIZE = 224\n",
    "NUM_EPOCHS = 100\n",
    "EARLY_STOP_PATIENCE = 10\n",
    "\n",
    "BATCH_SIZE_TRAINING = 32\n",
    "BATCH_SIZE_VALIDATION = 32\n",
    "# Using 1 to easily manage mapping between test_generator & prediction for submission preparation\n",
    "BATCH_SIZE_TESTING = 1"
   ]
  },
  {
   "cell_type": "markdown",
   "metadata": {},
   "source": [
    "# Transfer learning with Xception "
   ]
  },
  {
   "cell_type": "code",
   "execution_count": 4,
   "metadata": {},
   "outputs": [
    {
     "name": "stdout",
     "output_type": "stream",
     "text": [
      "Downloading data from https://github.com/fchollet/deep-learning-models/releases/download/v0.4/xception_weights_tf_dim_ordering_tf_kernels_notop.h5\n",
      "83689472/83683744 [==============================] - 4s 0us/step\n",
      "Model: \"sequential\"\n",
      "_________________________________________________________________\n",
      "Layer (type)                 Output Shape              Param #   \n",
      "=================================================================\n",
      "xception (Model)             (None, 2048)              20861480  \n",
      "_________________________________________________________________\n",
      "dense (Dense)                (None, 5)                 10245     \n",
      "=================================================================\n",
      "Total params: 20,871,725\n",
      "Trainable params: 10,245\n",
      "Non-trainable params: 20,861,480\n",
      "_________________________________________________________________\n"
     ]
    }
   ],
   "source": [
    "model = Sequential()\n",
    "model.add(Xception(include_top=False, weights='imagenet', input_shape=(IMAGE_RESIZE, IMAGE_RESIZE, CHANNELS), pooling='avg'))\n",
    "model.add(Dense(NUM_CLASSES, activation=softmax))\n",
    "model.layers[0].trainable = False\n",
    "model.summary()"
   ]
  },
  {
   "cell_type": "code",
   "execution_count": 5,
   "metadata": {},
   "outputs": [],
   "source": [
    "model.compile(loss=CategoricalCrossentropy(), \n",
    "              optimizer=tf.keras.optimizers.SGD(0.1, momentum=0.9, nesterov=True, decay=0.01), #decay=0.01\n",
    "              #optimizer=tf.keras.optimizers.Adam(learning_rate=0.01, beta_1=0.9, beta_2=0.999, amsgrad=False),\n",
    "              metrics=['accuracy'])"
   ]
  },
  {
   "cell_type": "code",
   "execution_count": 6,
   "metadata": {},
   "outputs": [],
   "source": [
    "callbacks = [\n",
    "    EarlyStopping(monitor='val_accuracy', mode='max', restore_best_weights=True, patience=EARLY_STOP_PATIENCE),\n",
    "    ModelCheckpoint(filepath='../working/flowers_transfer_model.h5', monitor='val_accuracy', mode='max', save_best_only=True)\n",
    "]"
   ]
  },
  {
   "cell_type": "code",
   "execution_count": 7,
   "metadata": {},
   "outputs": [],
   "source": [
    "data_generator = ImageDataGenerator(\n",
    "    preprocessing_function=preprocess_input,\n",
    "    rotation_range=10,  # randomly rotate images in the range (degrees, 0 to 180)\n",
    "    zoom_range = 0.1, # Randomly zoom image \n",
    "    width_shift_range=0.2,  # randomly shift images horizontally (fraction of total width)\n",
    "    height_shift_range=0.2,  # randomly shift images vertically (fraction of total height)\n",
    "    horizontal_flip=True,  # randomly flip images\n",
    "    validation_split=0.2\n",
    ")"
   ]
  },
  {
   "cell_type": "code",
   "execution_count": 8,
   "metadata": {},
   "outputs": [
    {
     "name": "stdout",
     "output_type": "stream",
     "text": [
      "Found 3462 images belonging to 5 classes.\n",
      "Found 861 images belonging to 5 classes.\n"
     ]
    }
   ],
   "source": [
    "train_data_gen = data_generator.flow_from_directory(\n",
    "    '../input/flowers-recognition/flowers/flowers/',\n",
    "    target_size=(IMAGE_RESIZE,IMAGE_RESIZE),\n",
    "    batch_size=BATCH_SIZE_TRAINING,\n",
    "    class_mode='categorical',\n",
    "    shuffle=True,\n",
    "    seed=0,\n",
    "    subset=\"training\" #constant string\n",
    ")\n",
    "\n",
    "valid_data_gen = data_generator.flow_from_directory(\n",
    "    '../input/flowers-recognition/flowers/flowers/',\n",
    "    target_size=(IMAGE_RESIZE,IMAGE_RESIZE),\n",
    "    batch_size=BATCH_SIZE_VALIDATION,\n",
    "    class_mode='categorical',\n",
    "    shuffle=True,\n",
    "    seed=0,\n",
    "    subset=\"validation\" #constant string\n",
    ")"
   ]
  },
  {
   "cell_type": "code",
   "execution_count": 9,
   "metadata": {},
   "outputs": [
    {
     "name": "stdout",
     "output_type": "stream",
     "text": [
      "Train for 108 steps, validate for 26 steps\n",
      "Epoch 1/100\n",
      "108/108 [==============================] - 75s 697ms/step - loss: 0.6745 - accuracy: 0.7519 - val_loss: 0.8626 - val_accuracy: 0.7452\n",
      "Epoch 2/100\n",
      "108/108 [==============================] - 61s 561ms/step - loss: 0.4514 - accuracy: 0.8434 - val_loss: 0.9098 - val_accuracy: 0.7608\n",
      "Epoch 3/100\n",
      "108/108 [==============================] - 59s 548ms/step - loss: 0.4407 - accuracy: 0.8397 - val_loss: 0.8311 - val_accuracy: 0.7476\n",
      "Epoch 4/100\n",
      "108/108 [==============================] - 59s 543ms/step - loss: 0.3798 - accuracy: 0.8679 - val_loss: 0.7431 - val_accuracy: 0.7788\n",
      "Epoch 5/100\n",
      "108/108 [==============================] - 58s 535ms/step - loss: 0.3727 - accuracy: 0.8685 - val_loss: 0.8840 - val_accuracy: 0.7644\n",
      "Epoch 6/100\n",
      "108/108 [==============================] - 58s 533ms/step - loss: 0.3633 - accuracy: 0.8741 - val_loss: 0.8760 - val_accuracy: 0.7464\n",
      "Epoch 7/100\n",
      "108/108 [==============================] - 57s 529ms/step - loss: 0.3494 - accuracy: 0.8796 - val_loss: 0.8159 - val_accuracy: 0.7596\n",
      "Epoch 8/100\n",
      "108/108 [==============================] - 57s 527ms/step - loss: 0.3585 - accuracy: 0.8735 - val_loss: 0.8105 - val_accuracy: 0.7656\n",
      "Epoch 9/100\n",
      "108/108 [==============================] - 57s 524ms/step - loss: 0.3577 - accuracy: 0.8732 - val_loss: 0.7709 - val_accuracy: 0.7668\n",
      "Epoch 10/100\n",
      "108/108 [==============================] - 57s 527ms/step - loss: 0.3517 - accuracy: 0.8773 - val_loss: 0.7978 - val_accuracy: 0.7668\n",
      "Epoch 11/100\n",
      "108/108 [==============================] - 57s 532ms/step - loss: 0.3424 - accuracy: 0.8828 - val_loss: 0.7670 - val_accuracy: 0.7909\n",
      "Epoch 12/100\n",
      "108/108 [==============================] - 56s 520ms/step - loss: 0.3347 - accuracy: 0.8828 - val_loss: 0.7827 - val_accuracy: 0.7716\n",
      "Epoch 13/100\n",
      "108/108 [==============================] - 57s 524ms/step - loss: 0.3242 - accuracy: 0.8857 - val_loss: 0.8038 - val_accuracy: 0.7752\n",
      "Epoch 14/100\n",
      "108/108 [==============================] - 57s 524ms/step - loss: 0.3307 - accuracy: 0.8828 - val_loss: 0.7753 - val_accuracy: 0.7861\n",
      "Epoch 15/100\n",
      "108/108 [==============================] - 56s 519ms/step - loss: 0.3297 - accuracy: 0.8845 - val_loss: 0.8055 - val_accuracy: 0.7560\n",
      "Epoch 16/100\n",
      "108/108 [==============================] - 56s 520ms/step - loss: 0.3301 - accuracy: 0.8831 - val_loss: 0.7899 - val_accuracy: 0.7776\n",
      "Epoch 17/100\n",
      "108/108 [==============================] - 57s 525ms/step - loss: 0.3374 - accuracy: 0.8831 - val_loss: 0.7590 - val_accuracy: 0.7704\n",
      "Epoch 18/100\n",
      "108/108 [==============================] - 57s 528ms/step - loss: 0.3204 - accuracy: 0.8840 - val_loss: 0.7635 - val_accuracy: 0.7788\n",
      "Epoch 19/100\n",
      "108/108 [==============================] - 57s 530ms/step - loss: 0.3161 - accuracy: 0.8956 - val_loss: 0.7663 - val_accuracy: 0.7776\n",
      "Epoch 20/100\n",
      "108/108 [==============================] - 57s 528ms/step - loss: 0.3169 - accuracy: 0.8831 - val_loss: 0.8634 - val_accuracy: 0.7560\n",
      "Epoch 21/100\n",
      "108/108 [==============================] - 57s 526ms/step - loss: 0.3289 - accuracy: 0.8822 - val_loss: 0.7555 - val_accuracy: 0.7740\n"
     ]
    }
   ],
   "source": [
    "history = model.fit_generator(train_data_gen,\n",
    "                              steps_per_epoch=train_data_gen.samples//BATCH_SIZE_TRAINING,\n",
    "                              validation_data=valid_data_gen,\n",
    "                              validation_steps=valid_data_gen.samples//BATCH_SIZE_VALIDATION,\n",
    "                              epochs=NUM_EPOCHS,\n",
    "                              callbacks = callbacks\n",
    "                             )"
   ]
  },
  {
   "cell_type": "markdown",
   "metadata": {},
   "source": [
    "# Retrain the whole network with smaller learning rate"
   ]
  },
  {
   "cell_type": "code",
   "execution_count": 10,
   "metadata": {},
   "outputs": [],
   "source": [
    "model.layers[0].trainable = True"
   ]
  },
  {
   "cell_type": "code",
   "execution_count": 11,
   "metadata": {},
   "outputs": [],
   "source": [
    "model.compile(loss=CategoricalCrossentropy(),  \n",
    "              optimizer=tf.keras.optimizers.SGD(lr=0.01, momentum=0.9, decay=0.001, nesterov=True),\n",
    "              #optimizer=tf.keras.optimizers.Adam(learning_rate=0.001, beta_1=0.9, beta_2=0.999, amsgrad=False),\n",
    "              metrics=['accuracy'])"
   ]
  },
  {
   "cell_type": "code",
   "execution_count": 12,
   "metadata": {},
   "outputs": [
    {
     "name": "stdout",
     "output_type": "stream",
     "text": [
      "Train for 108 steps, validate for 26 steps\n",
      "Epoch 1/100\n",
      "108/108 [==============================] - 78s 721ms/step - loss: 0.3080 - accuracy: 0.8913 - val_loss: 0.5182 - val_accuracy: 0.8486\n",
      "Epoch 2/100\n",
      "108/108 [==============================] - 72s 663ms/step - loss: 0.1092 - accuracy: 0.9653 - val_loss: 0.3739 - val_accuracy: 0.8954\n",
      "Epoch 3/100\n",
      "108/108 [==============================] - 72s 665ms/step - loss: 0.0449 - accuracy: 0.9857 - val_loss: 0.3708 - val_accuracy: 0.9111\n",
      "Epoch 4/100\n",
      "108/108 [==============================] - 72s 665ms/step - loss: 0.0272 - accuracy: 0.9918 - val_loss: 0.3173 - val_accuracy: 0.9243\n",
      "Epoch 5/100\n",
      "108/108 [==============================] - 71s 654ms/step - loss: 0.0172 - accuracy: 0.9959 - val_loss: 0.3316 - val_accuracy: 0.9147\n",
      "Epoch 6/100\n",
      "108/108 [==============================] - 71s 660ms/step - loss: 0.0085 - accuracy: 0.9980 - val_loss: 0.3070 - val_accuracy: 0.9231\n",
      "Epoch 7/100\n",
      "108/108 [==============================] - 72s 668ms/step - loss: 0.0079 - accuracy: 0.9988 - val_loss: 0.3096 - val_accuracy: 0.9255\n",
      "Epoch 8/100\n",
      "108/108 [==============================] - 71s 659ms/step - loss: 0.0115 - accuracy: 0.9965 - val_loss: 0.3059 - val_accuracy: 0.9243\n",
      "Epoch 9/100\n",
      "108/108 [==============================] - 73s 674ms/step - loss: 0.0067 - accuracy: 0.9980 - val_loss: 0.3056 - val_accuracy: 0.9303\n",
      "Epoch 10/100\n",
      "108/108 [==============================] - 72s 663ms/step - loss: 0.0058 - accuracy: 0.9985 - val_loss: 0.3069 - val_accuracy: 0.9279\n",
      "Epoch 11/100\n",
      "108/108 [==============================] - 73s 678ms/step - loss: 0.0044 - accuracy: 0.9991 - val_loss: 0.3063 - val_accuracy: 0.9315\n",
      "Epoch 12/100\n",
      "108/108 [==============================] - 72s 668ms/step - loss: 0.0045 - accuracy: 0.9994 - val_loss: 0.2988 - val_accuracy: 0.9291\n",
      "Epoch 13/100\n",
      "108/108 [==============================] - 73s 675ms/step - loss: 0.0048 - accuracy: 0.9994 - val_loss: 0.3095 - val_accuracy: 0.9363\n",
      "Epoch 14/100\n",
      "108/108 [==============================] - 72s 671ms/step - loss: 0.0022 - accuracy: 0.9994 - val_loss: 0.2849 - val_accuracy: 0.9339\n",
      "Epoch 15/100\n",
      "108/108 [==============================] - 73s 680ms/step - loss: 0.0047 - accuracy: 0.9994 - val_loss: 0.2944 - val_accuracy: 0.9387\n",
      "Epoch 16/100\n",
      "108/108 [==============================] - 73s 675ms/step - loss: 0.0021 - accuracy: 0.9997 - val_loss: 0.2801 - val_accuracy: 0.9387\n",
      "Epoch 17/100\n",
      "108/108 [==============================] - 73s 676ms/step - loss: 0.0017 - accuracy: 1.0000 - val_loss: 0.2761 - val_accuracy: 0.9351\n",
      "Epoch 18/100\n",
      "108/108 [==============================] - 73s 671ms/step - loss: 0.0019 - accuracy: 1.0000 - val_loss: 0.3080 - val_accuracy: 0.9327\n",
      "Epoch 19/100\n",
      "108/108 [==============================] - 73s 673ms/step - loss: 0.0015 - accuracy: 1.0000 - val_loss: 0.3146 - val_accuracy: 0.9291\n",
      "Epoch 20/100\n",
      "108/108 [==============================] - 73s 672ms/step - loss: 0.0012 - accuracy: 1.0000 - val_loss: 0.3203 - val_accuracy: 0.9291\n",
      "Epoch 21/100\n",
      "108/108 [==============================] - 73s 675ms/step - loss: 0.0014 - accuracy: 1.0000 - val_loss: 0.2934 - val_accuracy: 0.9351\n",
      "Epoch 22/100\n",
      "108/108 [==============================] - 90s 836ms/step - loss: 0.0018 - accuracy: 0.9997 - val_loss: 0.3002 - val_accuracy: 0.9351\n",
      "Epoch 23/100\n",
      "108/108 [==============================] - 73s 675ms/step - loss: 0.0018 - accuracy: 0.9994 - val_loss: 0.3161 - val_accuracy: 0.9315\n",
      "Epoch 24/100\n",
      "108/108 [==============================] - 74s 683ms/step - loss: 0.0015 - accuracy: 0.9997 - val_loss: 0.3316 - val_accuracy: 0.9315\n",
      "Epoch 25/100\n",
      "108/108 [==============================] - 73s 678ms/step - loss: 0.0011 - accuracy: 1.0000 - val_loss: 0.3256 - val_accuracy: 0.9315\n"
     ]
    }
   ],
   "source": [
    "history = model.fit_generator(train_data_gen,\n",
    "                              steps_per_epoch=train_data_gen.samples//BATCH_SIZE_TRAINING,\n",
    "                              validation_data=valid_data_gen,\n",
    "                              validation_steps=valid_data_gen.samples//BATCH_SIZE_VALIDATION,\n",
    "                              epochs=NUM_EPOCHS,\n",
    "                              callbacks = callbacks\n",
    "                             )"
   ]
  },
  {
   "cell_type": "markdown",
   "metadata": {},
   "source": [
    "### Connect/Save at jovian.ml "
   ]
  },
  {
   "cell_type": "code",
   "execution_count": 13,
   "metadata": {},
   "outputs": [],
   "source": [
    "!pip install jovian --upgrade --quiet"
   ]
  },
  {
   "cell_type": "code",
   "execution_count": 14,
   "metadata": {},
   "outputs": [
    {
     "data": {
      "application/javascript": [
       "if (window.IPython && IPython.notebook.kernel) IPython.notebook.kernel.execute('jovian.utils.jupyter.get_notebook_name_saved = lambda: \"' + IPython.notebook.notebook_name + '\"')"
      ],
      "text/plain": [
       "<IPython.core.display.Javascript object>"
      ]
     },
     "metadata": {},
     "output_type": "display_data"
    }
   ],
   "source": [
    "import jovian"
   ]
  },
  {
   "cell_type": "code",
   "execution_count": null,
   "metadata": {},
   "outputs": [
    {
     "data": {
      "application/javascript": [
       "window.require && require([\"base/js/namespace\"],function(Jupyter){Jupyter.notebook.save_checkpoint()})"
      ],
      "text/plain": [
       "<IPython.core.display.Javascript object>"
      ]
     },
     "metadata": {},
     "output_type": "display_data"
    },
    {
     "name": "stdout",
     "output_type": "stream",
     "text": [
      "[jovian] Attempting to save notebook..\u001b[0m\n"
     ]
    }
   ],
   "source": [
    "jovian.commit()"
   ]
  },
  {
   "cell_type": "code",
   "execution_count": null,
   "metadata": {},
   "outputs": [],
   "source": [
    "%capture [--no-stderr] [--no-stdout] [--no-display] [output]"
   ]
  },
  {
   "cell_type": "code",
   "execution_count": null,
   "metadata": {},
   "outputs": [],
   "source": []
  },
  {
   "cell_type": "code",
   "execution_count": null,
   "metadata": {},
   "outputs": [],
   "source": []
  },
  {
   "cell_type": "code",
   "execution_count": null,
   "metadata": {},
   "outputs": [],
   "source": []
  }
 ],
 "metadata": {
  "kernelspec": {
   "display_name": "Python 3",
   "language": "python",
   "name": "python3"
  },
  "language_info": {
   "codemirror_mode": {
    "name": "ipython",
    "version": 3
   },
   "file_extension": ".py",
   "mimetype": "text/x-python",
   "name": "python",
   "nbconvert_exporter": "python",
   "pygments_lexer": "ipython3",
   "version": "3.6.4"
  }
 },
 "nbformat": 4,
 "nbformat_minor": 4
}
